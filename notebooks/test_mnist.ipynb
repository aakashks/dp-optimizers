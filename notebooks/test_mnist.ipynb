{
 "cells": [
  {
   "cell_type": "code",
   "outputs": [],
   "source": [
    "import os, sys\n",
    "\n",
    "%load_ext autoreload\n",
    "%autoreload 2\n",
    "\n",
    "current = os.path.dirname(os.path.realpath(\"*.ipynb\"))\n",
    "parent = os.path.dirname(current)\n",
    "sys.path.append(parent)\n",
    "%cd .."
   ],
   "metadata": {
    "collapsed": false
   },
   "id": "c749d09c5f56681e",
   "execution_count": null
  },
  {
   "cell_type": "code",
   "outputs": [],
   "source": [
    "# !python mnist.py --num-epochs 10 "
   ],
   "metadata": {
    "collapsed": false,
    "ExecuteTime": {
     "end_time": "2024-03-19T06:59:15.510765Z",
     "start_time": "2024-03-19T06:59:15.356995Z"
    }
   },
   "id": "75611b9bc7695728",
   "execution_count": 2
  },
  {
   "cell_type": "code",
   "outputs": [],
   "source": [
    "from mnist import *"
   ],
   "metadata": {
    "collapsed": false
   },
   "id": "134536e161edd5e1",
   "execution_count": null
  },
  {
   "cell_type": "code",
   "outputs": [],
   "source": [
    "device = torch.device(\n",
    "    'cuda' if torch.cuda.is_available() else\n",
    "    'mps' if torch.backends.mps.is_available() else\n",
    "    'cpu'\n",
    ")\n",
    "\n",
    "# data loaders\n",
    "train_data = datasets.MNIST(\n",
    "    root='data', download=True, train=True, transform=transforms.ToTensor())\n",
    "test_data = datasets.MNIST(\n",
    "    root='data', download=True, train=False, transform=transforms.ToTensor())"
   ],
   "metadata": {
    "collapsed": false,
    "ExecuteTime": {
     "end_time": "2024-03-19T06:59:20.817744Z",
     "start_time": "2024-03-19T06:59:20.742304Z"
    }
   },
   "id": "2ab4680f6b1891c1",
   "execution_count": 4
  },
  {
   "cell_type": "code",
   "outputs": [],
   "source": [
    "# apply PCA to the dataset (as done in the paper)\n",
    "X_train = train_data.data.reshape(len(train_data), -1)\n",
    "X_test = test_data.data.reshape(len(test_data), -1)\n",
    "\n",
    "A = torch.cat([X_train, X_test]).float()"
   ],
   "metadata": {
    "collapsed": false,
    "ExecuteTime": {
     "end_time": "2024-03-19T07:00:30.004566Z",
     "start_time": "2024-03-19T07:00:29.941516Z"
    }
   },
   "id": "706c01858dd0cb7f",
   "execution_count": 6
  },
  {
   "cell_type": "code",
   "outputs": [
    {
     "data": {
      "text/plain": "torch.Size([784, 60])"
     },
     "execution_count": 7,
     "metadata": {},
     "output_type": "execute_result"
    }
   ],
   "source": [
    "_, _, V = torch.pca_lowrank(A, q=60)\n",
    "V.shape"
   ],
   "metadata": {
    "collapsed": false,
    "ExecuteTime": {
     "end_time": "2024-03-19T07:00:32.078998Z",
     "start_time": "2024-03-19T07:00:31.680122Z"
    }
   },
   "id": "558d60241b68bf77",
   "execution_count": 7
  },
  {
   "cell_type": "code",
   "outputs": [
    {
     "data": {
      "text/plain": "torch.Size([70000, 60])"
     },
     "execution_count": 8,
     "metadata": {},
     "output_type": "execute_result"
    }
   ],
   "source": [
    "res = torch.matmul(A, V)\n",
    "res.shape"
   ],
   "metadata": {
    "collapsed": false,
    "ExecuteTime": {
     "end_time": "2024-03-19T07:00:32.597258Z",
     "start_time": "2024-03-19T07:00:32.566145Z"
    }
   },
   "id": "b4ee30f720ca7da2",
   "execution_count": 8
  },
  {
   "cell_type": "code",
   "outputs": [],
   "source": [
    "X_train_pca_tensor = res[:60000]\n",
    "X_test_pca_tensor = res[60000:]\n",
    "y_train = train_data.targets\n",
    "y_test = test_data.targets\n",
    "\n",
    "# create torch datasets\n",
    "train_dataset = TensorDataset(X_train_pca_tensor, y_train)\n",
    "test_dataset = TensorDataset(X_test_pca_tensor, y_test)"
   ],
   "metadata": {
    "collapsed": false,
    "ExecuteTime": {
     "end_time": "2024-03-19T07:00:34.281735Z",
     "start_time": "2024-03-19T07:00:34.265640Z"
    }
   },
   "id": "6dc9514f07ae895d",
   "execution_count": 9
  },
  {
   "cell_type": "code",
   "outputs": [],
   "source": [
    "# training settings\n",
    "lot_size = 600\n",
    "\n",
    "train_loader = torch.utils.data.DataLoader(\n",
    "    train_dataset, batch_size=lot_size, shuffle=True)\n",
    "\n",
    "test_loader = torch.utils.data.DataLoader(\n",
    "    test_dataset, batch_size=lot_size, shuffle=False)\n",
    "\n",
    "model = LinearNet(in_features=60, hidden=1000).to(device)\n",
    "\n",
    "# loss function\n",
    "criterion = nn.CrossEntropyLoss()\n",
    "\n",
    "lr = 0.001\n",
    "num_epochs = 2\n",
    "\n",
    "# differentially private optimizer\n",
    "optimizer = optim.PIAdam(model.named_parameters(), lot_size, lr=lr, noise_scale=4, max_grad_norm=4)\n",
    "\n",
    "num_batches = len(train_loader)\n",
    "\n",
    "logger = {'loss': [], 'total_loss': [], 'accuracy': [], 'total_accuracy': [], 'total_val_accuracy': []}"
   ],
   "metadata": {
    "collapsed": false,
    "ExecuteTime": {
     "end_time": "2024-03-19T07:01:22.350256Z",
     "start_time": "2024-03-19T07:01:22.325577Z"
    }
   },
   "id": "3224561b3277c2e3",
   "execution_count": 13
  },
  {
   "cell_type": "code",
   "outputs": [
    {
     "name": "stdout",
     "output_type": "stream",
     "text": [
      "Epoch 1/2, Step 1/100, Train Acc: 0.1333\n",
      "Epoch 1/2, Step 2/100, Train Acc: 0.2233\n",
      "Epoch 1/2, Step 3/100, Train Acc: 0.3600\n",
      "Epoch 1/2, Step 4/100, Train Acc: 0.4717\n",
      "Epoch 1/2, Step 5/100, Train Acc: 0.5633\n",
      "Epoch 1/2, Step 6/100, Train Acc: 0.6250\n",
      "Epoch 1/2, Step 7/100, Train Acc: 0.6000\n",
      "Epoch 1/2, Step 8/100, Train Acc: 0.6017\n",
      "Epoch 1/2, Step 9/100, Train Acc: 0.6850\n",
      "Epoch 1/2, Step 10/100, Train Acc: 0.7333\n",
      "Epoch 1/2, Step 11/100, Train Acc: 0.7883\n",
      "Epoch 1/2, Step 12/100, Train Acc: 0.8400\n",
      "Epoch 1/2, Step 13/100, Train Acc: 0.8533\n",
      "Epoch 1/2, Step 14/100, Train Acc: 0.8383\n",
      "Epoch 1/2, Step 15/100, Train Acc: 0.8600\n",
      "Epoch 1/2, Step 16/100, Train Acc: 0.8383\n",
      "Epoch 1/2, Step 17/100, Train Acc: 0.8367\n",
      "Epoch 1/2, Step 18/100, Train Acc: 0.8967\n",
      "Epoch 1/2, Step 19/100, Train Acc: 0.8933\n",
      "Epoch 1/2, Step 20/100, Train Acc: 0.8817\n",
      "Epoch 1/2, Step 21/100, Train Acc: 0.8750\n",
      "Epoch 1/2, Step 22/100, Train Acc: 0.8917\n",
      "Epoch 1/2, Step 23/100, Train Acc: 0.9100\n",
      "Epoch 1/2, Step 24/100, Train Acc: 0.8817\n",
      "Epoch 1/2, Step 25/100, Train Acc: 0.9100\n",
      "Epoch 1/2, Step 26/100, Train Acc: 0.9050\n",
      "Epoch 1/2, Step 27/100, Train Acc: 0.8883\n",
      "Epoch 1/2, Step 28/100, Train Acc: 0.9133\n",
      "Epoch 1/2, Step 29/100, Train Acc: 0.8967\n",
      "Epoch 1/2, Step 30/100, Train Acc: 0.9100\n",
      "Epoch 1/2, Step 31/100, Train Acc: 0.9033\n",
      "Epoch 1/2, Step 32/100, Train Acc: 0.9033\n",
      "Epoch 1/2, Step 33/100, Train Acc: 0.9250\n",
      "Epoch 1/2, Step 34/100, Train Acc: 0.9250\n",
      "Epoch 1/2, Step 35/100, Train Acc: 0.9017\n",
      "Epoch 1/2, Step 36/100, Train Acc: 0.9083\n",
      "Epoch 1/2, Step 37/100, Train Acc: 0.9083\n",
      "Epoch 1/2, Step 38/100, Train Acc: 0.9150\n",
      "Epoch 1/2, Step 39/100, Train Acc: 0.9050\n",
      "Epoch 1/2, Step 40/100, Train Acc: 0.9283\n",
      "Epoch 1/2, Step 41/100, Train Acc: 0.9183\n",
      "Epoch 1/2, Step 42/100, Train Acc: 0.9233\n",
      "Epoch 1/2, Step 43/100, Train Acc: 0.9300\n",
      "Epoch 1/2, Step 44/100, Train Acc: 0.9217\n",
      "Epoch 1/2, Step 45/100, Train Acc: 0.9267\n",
      "Epoch 1/2, Step 46/100, Train Acc: 0.9400\n",
      "Epoch 1/2, Step 47/100, Train Acc: 0.9050\n",
      "Epoch 1/2, Step 48/100, Train Acc: 0.9183\n",
      "Epoch 1/2, Step 49/100, Train Acc: 0.9317\n",
      "Epoch 1/2, Step 50/100, Train Acc: 0.9133\n",
      "Epoch 1/2, Step 51/100, Train Acc: 0.9217\n",
      "Epoch 1/2, Step 52/100, Train Acc: 0.9050\n",
      "Epoch 1/2, Step 53/100, Train Acc: 0.9217\n",
      "Epoch 1/2, Step 54/100, Train Acc: 0.9233\n",
      "Epoch 1/2, Step 55/100, Train Acc: 0.9200\n",
      "Epoch 1/2, Step 56/100, Train Acc: 0.9333\n",
      "Epoch 1/2, Step 57/100, Train Acc: 0.9183\n",
      "Epoch 1/2, Step 58/100, Train Acc: 0.9283\n",
      "Epoch 1/2, Step 59/100, Train Acc: 0.9217\n",
      "Epoch 1/2, Step 60/100, Train Acc: 0.9167\n",
      "Epoch 1/2, Step 61/100, Train Acc: 0.9267\n",
      "Epoch 1/2, Step 62/100, Train Acc: 0.9333\n",
      "Epoch 1/2, Step 63/100, Train Acc: 0.9300\n",
      "Epoch 1/2, Step 64/100, Train Acc: 0.9183\n",
      "Epoch 1/2, Step 65/100, Train Acc: 0.9383\n",
      "Epoch 1/2, Step 66/100, Train Acc: 0.9250\n",
      "Epoch 1/2, Step 67/100, Train Acc: 0.9350\n",
      "Epoch 1/2, Step 68/100, Train Acc: 0.9450\n",
      "Epoch 1/2, Step 69/100, Train Acc: 0.9483\n",
      "Epoch 1/2, Step 70/100, Train Acc: 0.9483\n",
      "Epoch 1/2, Step 71/100, Train Acc: 0.9350\n",
      "Epoch 1/2, Step 72/100, Train Acc: 0.9383\n",
      "Epoch 1/2, Step 73/100, Train Acc: 0.9450\n",
      "Epoch 1/2, Step 74/100, Train Acc: 0.9367\n",
      "Epoch 1/2, Step 75/100, Train Acc: 0.9417\n",
      "Epoch 1/2, Step 76/100, Train Acc: 0.9267\n",
      "Epoch 1/2, Step 77/100, Train Acc: 0.9417\n",
      "Epoch 1/2, Step 78/100, Train Acc: 0.9567\n",
      "Epoch 1/2, Step 79/100, Train Acc: 0.9233\n",
      "Epoch 1/2, Step 80/100, Train Acc: 0.9267\n",
      "Epoch 1/2, Step 81/100, Train Acc: 0.9333\n",
      "Epoch 1/2, Step 82/100, Train Acc: 0.9250\n",
      "Epoch 1/2, Step 83/100, Train Acc: 0.9283\n",
      "Epoch 1/2, Step 84/100, Train Acc: 0.9217\n",
      "Epoch 1/2, Step 85/100, Train Acc: 0.9567\n",
      "Epoch 1/2, Step 86/100, Train Acc: 0.9350\n",
      "Epoch 1/2, Step 87/100, Train Acc: 0.9067\n",
      "Epoch 1/2, Step 88/100, Train Acc: 0.9117\n",
      "Epoch 1/2, Step 89/100, Train Acc: 0.9300\n",
      "Epoch 1/2, Step 90/100, Train Acc: 0.9350\n",
      "Epoch 1/2, Step 91/100, Train Acc: 0.9333\n",
      "Epoch 1/2, Step 92/100, Train Acc: 0.9350\n",
      "Epoch 1/2, Step 93/100, Train Acc: 0.9383\n",
      "Epoch 1/2, Step 94/100, Train Acc: 0.9217\n",
      "Epoch 1/2, Step 95/100, Train Acc: 0.9217\n",
      "Epoch 1/2, Step 96/100, Train Acc: 0.9367\n",
      "Epoch 1/2, Step 97/100, Train Acc: 0.9483\n",
      "Epoch 1/2, Step 98/100, Train Acc: 0.9083\n",
      "Epoch 1/2, Step 99/100, Train Acc: 0.9217\n",
      "Epoch 1/2, Step 100/100, Train Acc: 0.9267\n",
      "Epoch 2/2, Step 1/100, Train Acc: 0.9367\n",
      "Epoch 2/2, Step 2/100, Train Acc: 0.9300\n",
      "Epoch 2/2, Step 3/100, Train Acc: 0.9450\n",
      "Epoch 2/2, Step 4/100, Train Acc: 0.9583\n",
      "Epoch 2/2, Step 5/100, Train Acc: 0.9717\n",
      "Epoch 2/2, Step 6/100, Train Acc: 0.9317\n",
      "Epoch 2/2, Step 7/100, Train Acc: 0.9350\n",
      "Epoch 2/2, Step 8/100, Train Acc: 0.9400\n",
      "Epoch 2/2, Step 9/100, Train Acc: 0.9350\n",
      "Epoch 2/2, Step 10/100, Train Acc: 0.9433\n",
      "Epoch 2/2, Step 11/100, Train Acc: 0.9533\n",
      "Epoch 2/2, Step 12/100, Train Acc: 0.9450\n",
      "Epoch 2/2, Step 13/100, Train Acc: 0.9483\n",
      "Epoch 2/2, Step 14/100, Train Acc: 0.9517\n",
      "Epoch 2/2, Step 15/100, Train Acc: 0.9583\n",
      "Epoch 2/2, Step 16/100, Train Acc: 0.9500\n",
      "Epoch 2/2, Step 17/100, Train Acc: 0.9583\n",
      "Epoch 2/2, Step 18/100, Train Acc: 0.9517\n",
      "Epoch 2/2, Step 19/100, Train Acc: 0.9533\n",
      "Epoch 2/2, Step 20/100, Train Acc: 0.9517\n",
      "Epoch 2/2, Step 21/100, Train Acc: 0.9433\n",
      "Epoch 2/2, Step 22/100, Train Acc: 0.9517\n",
      "Epoch 2/2, Step 23/100, Train Acc: 0.9517\n",
      "Epoch 2/2, Step 24/100, Train Acc: 0.9583\n",
      "Epoch 2/2, Step 25/100, Train Acc: 0.9517\n",
      "Epoch 2/2, Step 26/100, Train Acc: 0.9367\n",
      "Epoch 2/2, Step 27/100, Train Acc: 0.9500\n",
      "Epoch 2/2, Step 28/100, Train Acc: 0.9467\n",
      "Epoch 2/2, Step 29/100, Train Acc: 0.9467\n",
      "Epoch 2/2, Step 30/100, Train Acc: 0.9567\n",
      "Epoch 2/2, Step 31/100, Train Acc: 0.9400\n",
      "Epoch 2/2, Step 32/100, Train Acc: 0.9583\n",
      "Epoch 2/2, Step 33/100, Train Acc: 0.9617\n",
      "Epoch 2/2, Step 34/100, Train Acc: 0.9650\n",
      "Epoch 2/2, Step 35/100, Train Acc: 0.9517\n",
      "Epoch 2/2, Step 36/100, Train Acc: 0.9483\n",
      "Epoch 2/2, Step 37/100, Train Acc: 0.9650\n",
      "Epoch 2/2, Step 38/100, Train Acc: 0.9550\n",
      "Epoch 2/2, Step 39/100, Train Acc: 0.9467\n",
      "Epoch 2/2, Step 40/100, Train Acc: 0.9500\n",
      "Epoch 2/2, Step 41/100, Train Acc: 0.9533\n",
      "Epoch 2/2, Step 42/100, Train Acc: 0.9533\n",
      "Epoch 2/2, Step 43/100, Train Acc: 0.9433\n",
      "Epoch 2/2, Step 44/100, Train Acc: 0.9533\n",
      "Epoch 2/2, Step 45/100, Train Acc: 0.9583\n",
      "Epoch 2/2, Step 46/100, Train Acc: 0.9517\n",
      "Epoch 2/2, Step 47/100, Train Acc: 0.9583\n",
      "Epoch 2/2, Step 48/100, Train Acc: 0.9267\n",
      "Epoch 2/2, Step 49/100, Train Acc: 0.9267\n",
      "Epoch 2/2, Step 50/100, Train Acc: 0.9567\n",
      "Epoch 2/2, Step 51/100, Train Acc: 0.9517\n",
      "Epoch 2/2, Step 52/100, Train Acc: 0.9500\n",
      "Epoch 2/2, Step 53/100, Train Acc: 0.9533\n",
      "Epoch 2/2, Step 54/100, Train Acc: 0.9533\n",
      "Epoch 2/2, Step 55/100, Train Acc: 0.9317\n",
      "Epoch 2/2, Step 56/100, Train Acc: 0.9433\n",
      "Epoch 2/2, Step 57/100, Train Acc: 0.9667\n",
      "Epoch 2/2, Step 58/100, Train Acc: 0.9500\n",
      "Epoch 2/2, Step 59/100, Train Acc: 0.9533\n",
      "Epoch 2/2, Step 60/100, Train Acc: 0.9550\n",
      "Epoch 2/2, Step 61/100, Train Acc: 0.9600\n",
      "Epoch 2/2, Step 62/100, Train Acc: 0.9667\n",
      "Epoch 2/2, Step 63/100, Train Acc: 0.9400\n",
      "Epoch 2/2, Step 64/100, Train Acc: 0.9567\n",
      "Epoch 2/2, Step 65/100, Train Acc: 0.9517\n",
      "Epoch 2/2, Step 66/100, Train Acc: 0.9533\n",
      "Epoch 2/2, Step 67/100, Train Acc: 0.9700\n",
      "Epoch 2/2, Step 68/100, Train Acc: 0.9533\n",
      "Epoch 2/2, Step 69/100, Train Acc: 0.9517\n",
      "Epoch 2/2, Step 70/100, Train Acc: 0.9550\n",
      "Epoch 2/2, Step 71/100, Train Acc: 0.9533\n",
      "Epoch 2/2, Step 72/100, Train Acc: 0.9550\n",
      "Epoch 2/2, Step 73/100, Train Acc: 0.9433\n",
      "Epoch 2/2, Step 74/100, Train Acc: 0.9550\n",
      "Epoch 2/2, Step 75/100, Train Acc: 0.9417\n",
      "Epoch 2/2, Step 76/100, Train Acc: 0.9567\n",
      "Epoch 2/2, Step 77/100, Train Acc: 0.9617\n",
      "Epoch 2/2, Step 78/100, Train Acc: 0.9350\n",
      "Epoch 2/2, Step 79/100, Train Acc: 0.9633\n",
      "Epoch 2/2, Step 80/100, Train Acc: 0.9417\n",
      "Epoch 2/2, Step 81/100, Train Acc: 0.9333\n",
      "Epoch 2/2, Step 82/100, Train Acc: 0.9417\n",
      "Epoch 2/2, Step 83/100, Train Acc: 0.9433\n",
      "Epoch 2/2, Step 84/100, Train Acc: 0.9617\n",
      "Epoch 2/2, Step 85/100, Train Acc: 0.9383\n",
      "Epoch 2/2, Step 86/100, Train Acc: 0.9583\n",
      "Epoch 2/2, Step 87/100, Train Acc: 0.9250\n",
      "Epoch 2/2, Step 88/100, Train Acc: 0.9683\n",
      "Epoch 2/2, Step 89/100, Train Acc: 0.9600\n",
      "Epoch 2/2, Step 90/100, Train Acc: 0.9417\n",
      "Epoch 2/2, Step 91/100, Train Acc: 0.9550\n",
      "Epoch 2/2, Step 92/100, Train Acc: 0.9383\n",
      "Epoch 2/2, Step 93/100, Train Acc: 0.9483\n",
      "Epoch 2/2, Step 94/100, Train Acc: 0.9683\n",
      "Epoch 2/2, Step 95/100, Train Acc: 0.9450\n",
      "Epoch 2/2, Step 96/100, Train Acc: 0.9283\n",
      "Epoch 2/2, Step 97/100, Train Acc: 0.9650\n",
      "Epoch 2/2, Step 98/100, Train Acc: 0.9600\n",
      "Epoch 2/2, Step 99/100, Train Acc: 0.9667\n",
      "Epoch 2/2, Step 100/100, Train Acc: 0.9400\n"
     ]
    }
   ],
   "source": [
    "train_dp_model(model, criterion, optimizer, num_epochs, train_loader, test_loader, device=device,\n",
    "               logger=logger)"
   ],
   "metadata": {
    "collapsed": false,
    "ExecuteTime": {
     "end_time": "2024-03-19T07:01:28.820654Z",
     "start_time": "2024-03-19T07:01:22.606336Z"
    }
   },
   "id": "e8472bcc40164cc8",
   "execution_count": 14
  },
  {
   "cell_type": "code",
   "outputs": [
    {
     "data": {
      "text/plain": "<Figure size 1200x500 with 2 Axes>",
      "image/png": "[encoded data removed]"
     },
     "metadata": {},
     "output_type": "display_data"
    }
   ],
   "source": [
    "fig, ax = plt.subplots(1, 2, figsize=(12, 5), sharey=True)\n",
    "\n",
    "ax[0].plot(logger['accuracy'])\n",
    "ax[0].set_title('accuracy')\n",
    "\n",
    "ax[1].plot(logger['total_accuracy'], label='train')\n",
    "ax[1].set_title('per epoch accuracy')\n",
    "ax[1].plot(logger['total_val_accuracy'], label='val')\n",
    "ax[1].legend()\n",
    "plt.show()"
   ],
   "metadata": {
    "collapsed": false,
    "ExecuteTime": {
     "end_time": "2024-03-19T07:02:24.674051Z",
     "start_time": "2024-03-19T07:02:24.547038Z"
    }
   },
   "id": "aa0d452b371692d9",
   "execution_count": 16
  }
 ],
 "metadata": {
  "kernelspec": {
   "display_name": "Python 3",
   "language": "python",
   "name": "python3"
  },
  "language_info": {
   "codemirror_mode": {
    "name": "ipython",
    "version": 2
   },
   "file_extension": ".py",
   "mimetype": "text/x-python",
   "name": "python",
   "nbconvert_exporter": "python",
   "pygments_lexer": "ipython2",
   "version": "2.7.6"
  }
 },
 "nbformat": 4,
 "nbformat_minor": 5
}
