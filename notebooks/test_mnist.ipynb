{
 "cells": [
  {
   "cell_type": "code",
   "outputs": [],
   "source": [
    "import os, sys\n",
    "current = os.path.dirname(os.path.realpath(\"*.ipynb\"))\n",
    "parent = os.path.dirname(current)\n",
    "sys.path.append(parent)\n",
    "%cd .."
   ],
   "metadata": {
    "collapsed": false
   },
   "id": "c749d09c5f56681e",
   "execution_count": null
  },
  {
   "cell_type": "code",
   "outputs": [],
   "source": [
    "# !python mnist.py --num-epochs 10 "
   ],
   "metadata": {
    "collapsed": false
   },
   "id": "75611b9bc7695728",
   "execution_count": null
  },
  {
   "cell_type": "code",
   "outputs": [],
   "source": [
    "from mnist import *"
   ],
   "metadata": {
    "collapsed": false
   },
   "id": "134536e161edd5e1",
   "execution_count": null
  },
  {
   "cell_type": "code",
   "outputs": [],
   "source": [
    "device = torch.device(\n",
    "    'cuda' if torch.cuda.is_available() else\n",
    "    'mps' if torch.backends.mps.is_available() else\n",
    "    'cpu'\n",
    ")\n",
    "\n",
    "# data loaders\n",
    "train_dataset = datasets.MNIST(\n",
    "    root='data', download=True, train=True, transform=transforms.ToTensor())\n",
    "test_dataset = datasets.MNIST(\n",
    "    root='data', download=True, train=False, transform=transforms.ToTensor())\n",
    "\n",
    "# training settings\n",
    "lot_size = 600\n",
    "\n",
    "train_loader = torch.utils.data.DataLoader(\n",
    "    train_dataset, batch_size=lot_size, shuffle=True)\n",
    "\n",
    "test_loader = torch.utils.data.DataLoader(\n",
    "    test_dataset, batch_size=lot_size, shuffle=False)\n",
    "\n",
    "model = LinearNet(in_features=784, hidden=100)\n",
    "\n",
    "# loss function\n",
    "criterion = nn.CrossEntropyLoss()\n",
    "\n",
    "lr = 0.05\n",
    "num_epochs = 20\n",
    "\n",
    "# differentially private optimizer\n",
    "optimizer = optim.DPSGD(model.named_parameters(), lot_size, lr=lr, noise_scale=2,\n",
    "                        max_grad_norm=4)\n",
    "\n",
    "num_batches = len(train_loader)\n",
    "\n",
    "logger = {'loss': [], 'total_loss': [], 'accuracy': [], 'total_accuracy': [], 'total_val_accuracy': []}"
   ],
   "metadata": {
    "collapsed": false
   },
   "id": "3224561b3277c2e3",
   "execution_count": null
  },
  {
   "cell_type": "code",
   "outputs": [],
   "source": [
    "train_dp_model(model, criterion, optimizer, num_epochs, num_batches, train_loader, test_loader, device=device,\n",
    "               logger=logger)\n",
    "\n",
    "fig, ax = plt.subplots(1, 2, figsize=(12, 5))\n",
    "\n",
    "ax[0].plot(logger['accuracy'])\n",
    "ax[0].set_title('accuracy')\n",
    "\n",
    "ax[1].plot(logger['total_accuracy'], label='train accuracy')\n",
    "ax[1].set_title('total accuracy')\n",
    "ax[1].plot(logger['total_val_accuracy'], label='val accuracy')\n",
    "ax[1].legend()\n",
    "plt.show()"
   ],
   "metadata": {
    "collapsed": false
   },
   "id": "aa0d452b371692d9",
   "execution_count": null
  }
 ],
 "metadata": {
  "kernelspec": {
   "display_name": "Python 3",
   "language": "python",
   "name": "python3"
  },
  "language_info": {
   "codemirror_mode": {
    "name": "ipython",
    "version": 2
   },
   "file_extension": ".py",
   "mimetype": "text/x-python",
   "name": "python",
   "nbconvert_exporter": "python",
   "pygments_lexer": "ipython2",
   "version": "2.7.6"
  }
 },
 "nbformat": 4,
 "nbformat_minor": 5
}
