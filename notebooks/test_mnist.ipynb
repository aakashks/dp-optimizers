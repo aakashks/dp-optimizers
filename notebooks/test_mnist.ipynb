{
 "cells": [
  {
   "cell_type": "code",
   "id": "134536e161edd5e1",
   "metadata": {
    "collapsed": false,
    "execution": {
     "iopub.execute_input": "2024-03-24T10:02:07.647999Z",
     "iopub.status.busy": "2024-03-24T10:02:07.647658Z",
     "iopub.status.idle": "2024-03-24T10:02:15.301593Z",
     "shell.execute_reply": "2024-03-24T10:02:15.300642Z"
    },
    "papermill": {
     "duration": 7.661831,
     "end_time": "2024-03-24T10:02:15.303637",
     "exception": false,
     "start_time": "2024-03-24T10:02:07.641806",
     "status": "completed"
    },
    "tags": []
   },
   "source": "from main import *",
   "outputs": [],
   "execution_count": null
  },
  {
   "metadata": {},
   "cell_type": "code",
   "source": [
    "# Parameters\n",
    "\n",
    "num_epochs = 20\n",
    "noise_scale = 4\n",
    "\n",
    "max_grad_norm = 4\n",
    "lot_size = 600\n",
    "hidden_size = 1000\n",
    "q = None"
   ],
   "id": "3dde7c5897d365bc",
   "outputs": [],
   "execution_count": null
  },
  {
   "cell_type": "code",
   "id": "bfa96350111a83cb",
   "metadata": {
    "collapsed": false,
    "execution": {
     "iopub.execute_input": "2024-03-24T10:02:15.310051Z",
     "iopub.status.busy": "2024-03-24T10:02:15.309697Z",
     "iopub.status.idle": "2024-03-24T10:02:15.378301Z",
     "shell.execute_reply": "2024-03-24T10:02:15.377281Z"
    },
    "papermill": {
     "duration": 0.073808,
     "end_time": "2024-03-24T10:02:15.380119",
     "exception": false,
     "start_time": "2024-03-24T10:02:15.306311",
     "status": "completed"
    },
    "tags": []
   },
   "source": [
    "device = torch.device(\n",
    "    'cuda' if torch.cuda.is_available() else\n",
    "    'mps' if torch.backends.mps.is_available() else\n",
    "    'cpu'\n",
    ")\n",
    "\n",
    "print(f'Using device: {device}')"
   ],
   "outputs": [],
   "execution_count": null
  },
  {
   "metadata": {},
   "cell_type": "markdown",
   "source": "### Loading data",
   "id": "db9dfe3775758522"
  },
  {
   "cell_type": "code",
   "id": "1a1ffc7f970c226a",
   "metadata": {
    "collapsed": false,
    "execution": {
     "iopub.execute_input": "2024-03-24T10:02:15.386791Z",
     "iopub.status.busy": "2024-03-24T10:02:15.386530Z",
     "iopub.status.idle": "2024-03-24T10:02:17.958022Z",
     "shell.execute_reply": "2024-03-24T10:02:17.957117Z"
    },
    "papermill": {
     "duration": 2.577098,
     "end_time": "2024-03-24T10:02:17.960036",
     "exception": false,
     "start_time": "2024-03-24T10:02:15.382938",
     "status": "completed"
    },
    "tags": []
   },
   "source": [
    "# data loaders\n",
    "train_data = datasets.MNIST(\n",
    "    root='data', download=True, train=True, transform=transforms.ToTensor())\n",
    "test_data = datasets.MNIST(\n",
    "    root='data', download=True, train=False, transform=transforms.ToTensor())\n",
    "\n",
    "# training settings\n",
    "lot_size = lot_size if q is None else int(q * len(train_data))  # (L)\n",
    "\n",
    "train_loader = torch.utils.data.DataLoader(\n",
    "    train_data, batch_size=lot_size, shuffle=True)\n",
    "\n",
    "test_loader = torch.utils.data.DataLoader(\n",
    "    test_data, batch_size=lot_size, shuffle=False)"
   ],
   "outputs": [],
   "execution_count": null
  },
  {
   "cell_type": "code",
   "id": "96b260a32b2062a2",
   "metadata": {
    "collapsed": false,
    "execution": {
     "iopub.execute_input": "2024-03-24T10:02:17.966857Z",
     "iopub.status.busy": "2024-03-24T10:02:17.966576Z",
     "iopub.status.idle": "2024-03-24T10:02:18.248996Z",
     "shell.execute_reply": "2024-03-24T10:02:18.248089Z"
    },
    "papermill": {
     "duration": 0.288097,
     "end_time": "2024-03-24T10:02:18.250997",
     "exception": false,
     "start_time": "2024-03-24T10:02:17.962900",
     "status": "completed"
    },
    "tags": []
   },
   "source": [
    "accountant = accountants.MomentsAccountant(noise_scale, q=lot_size / len(train_data))\n",
    "\n",
    "# loss function\n",
    "criterion = nn.CrossEntropyLoss()"
   ],
   "outputs": [],
   "execution_count": null
  },
  {
   "metadata": {},
   "cell_type": "markdown",
   "source": "### Training",
   "id": "59a06e0cbe3cec58"
  },
  {
   "cell_type": "code",
   "source": [
    "# differentially private optimizer\n",
    "model = LinearNet(in_features=784, hidden=hidden_size).to(device)\n",
    "optimizer = optim.PIAdam(model.named_parameters(), lot_size, lr=1e-4, noise_scale=noise_scale,\n",
    "                         max_grad_norm=max_grad_norm)\n",
    "\n",
    "logger = {'loss': [], 'total_loss': [], 'accuracy': [], 'total_accuracy': [], 'total_val_accuracy': [], 'epsilon': []}\n",
    "\n",
    "train_dp_model(model, criterion, optimizer, num_epochs, train_loader, test_loader, device=device,\n",
    "               logger=logger, accountant=accountant)"
   ],
   "metadata": {
    "collapsed": false
   },
   "id": "4e555d0878015ee0",
   "outputs": [],
   "execution_count": null
  },
  {
   "cell_type": "code",
   "source": [
    "fig, ax = plt.subplots(1, 2, figsize=(15, 6), sharey=True)\n",
    "\n",
    "ax[0].plot(logger['accuracy'])\n",
    "ax[0].set_title('accuracy')\n",
    "\n",
    "ax[1].plot(logger['total_accuracy'], label='train')\n",
    "ax[1].set_title('per epoch accuracy')\n",
    "ax[1].plot(logger['total_val_accuracy'], label='val')\n",
    "ax[1].legend()\n",
    "plt.show()"
   ],
   "metadata": {
    "collapsed": false
   },
   "id": "c729f5222e903e39",
   "outputs": [],
   "execution_count": null
  }
 ],
 "metadata": {
  "kernelspec": {
   "display_name": "Python 3",
   "language": "python",
   "name": "python3"
  },
  "language_info": {
   "codemirror_mode": {
    "name": "ipython",
    "version": 3
   },
   "file_extension": ".py",
   "mimetype": "text/x-python",
   "name": "python",
   "nbconvert_exporter": "python",
   "pygments_lexer": "ipython3",
   "version": "3.10.12"
  },
  "papermill": {
   "default_parameters": {},
   "duration": 69.306305,
   "end_time": "2024-03-24T10:03:15.114647",
   "environment_variables": {},
   "exception": null,
   "input_path": "notebooks/test_mnist.ipynb",
   "output_path": "notebooks/test_mnist.ipynb",
   "parameters": {
    "num_epochs": 100
   },
   "start_time": "2024-03-24T10:02:05.808342",
   "version": "2.5.0"
  }
 },
 "nbformat": 4,
 "nbformat_minor": 5
}
