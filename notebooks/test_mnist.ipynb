{
 "cells": [
  {
   "cell_type": "code",
   "execution_count": null,
   "id": "c749d09c5f56681e",
   "metadata": {
    "collapsed": false,
    "execution": {
     "iopub.execute_input": "2024-03-24T10:02:07.483360Z",
     "iopub.status.busy": "2024-03-24T10:02:07.482951Z",
     "iopub.status.idle": "2024-03-24T10:02:07.500057Z",
     "shell.execute_reply": "2024-03-24T10:02:07.499278Z"
    },
    "papermill": {
     "duration": 0.023731,
     "end_time": "2024-03-24T10:02:07.501865",
     "exception": false,
     "start_time": "2024-03-24T10:02:07.478134",
     "status": "completed"
    },
    "tags": []
   },
   "outputs": [],
   "source": [
    "# local settings\n",
    "\n",
    "import os, sys\n",
    "from copy import deepcopy\n",
    "\n",
    "import matplotlib.pyplot as plt\n",
    "\n",
    "%load_ext autoreload\n",
    "%autoreload 2\n",
    "\n",
    "current = os.path.dirname(os.path.realpath(\"*.ipynb\"))\n",
    "parent = os.path.dirname(current)\n",
    "sys.path.append(parent)\n",
    "# %cd .."
   ]
  },
  {
   "cell_type": "code",
   "execution_count": null,
   "id": "966da8e57e947426",
   "metadata": {
    "collapsed": false,
    "execution": {
     "iopub.execute_input": "2024-03-24T10:02:07.509493Z",
     "iopub.status.busy": "2024-03-24T10:02:07.508906Z",
     "iopub.status.idle": "2024-03-24T10:02:07.538081Z",
     "shell.execute_reply": "2024-03-24T10:02:07.537333Z"
    },
    "papermill": {
     "duration": 0.037675,
     "end_time": "2024-03-24T10:02:07.542637",
     "exception": false,
     "start_time": "2024-03-24T10:02:07.504962",
     "status": "completed"
    },
    "tags": []
   },
   "outputs": [],
   "source": [
    "# online settings (papermill execution)\n",
    "\n",
    "plt.rcParams['figure.dpi'] = 300"
   ]
  },
  {
   "cell_type": "code",
   "execution_count": null,
   "id": "3dde7c5897d365bc",
   "metadata": {
    "collapsed": false,
    "execution": {
     "iopub.execute_input": "2024-03-24T10:02:07.572594Z",
     "iopub.status.busy": "2024-03-24T10:02:07.571944Z",
     "iopub.status.idle": "2024-03-24T10:02:07.621903Z",
     "shell.execute_reply": "2024-03-24T10:02:07.619332Z"
    },
    "papermill": {
     "duration": 0.071514,
     "end_time": "2024-03-24T10:02:07.628462",
     "exception": false,
     "start_time": "2024-03-24T10:02:07.556948",
     "status": "completed"
    },
    "tags": [
     "parameters"
    ]
   },
   "outputs": [],
   "source": [
    "# Parameters\n",
    "\n",
    "num_epochs = 10\n",
    "no_pca = False\n",
    "noise_scale = 4\n",
    "\n",
    "max_grad_norm = 4\n",
    "lot_size = 600\n",
    "hidden_size = 1000\n",
    "q = None"
   ]
  },
  {
   "cell_type": "code",
   "execution_count": null,
   "id": "134536e161edd5e1",
   "metadata": {
    "collapsed": false,
    "execution": {
     "iopub.execute_input": "2024-03-24T10:02:07.647999Z",
     "iopub.status.busy": "2024-03-24T10:02:07.647658Z",
     "iopub.status.idle": "2024-03-24T10:02:15.301593Z",
     "shell.execute_reply": "2024-03-24T10:02:15.300642Z"
    },
    "papermill": {
     "duration": 7.661831,
     "end_time": "2024-03-24T10:02:15.303637",
     "exception": false,
     "start_time": "2024-03-24T10:02:07.641806",
     "status": "completed"
    },
    "tags": []
   },
   "outputs": [],
   "source": [
    "from mnist import *"
   ]
  },
  {
   "cell_type": "code",
   "execution_count": null,
   "id": "bfa96350111a83cb",
   "metadata": {
    "collapsed": false,
    "execution": {
     "iopub.execute_input": "2024-03-24T10:02:15.310051Z",
     "iopub.status.busy": "2024-03-24T10:02:15.309697Z",
     "iopub.status.idle": "2024-03-24T10:02:15.378301Z",
     "shell.execute_reply": "2024-03-24T10:02:15.377281Z"
    },
    "papermill": {
     "duration": 0.073808,
     "end_time": "2024-03-24T10:02:15.380119",
     "exception": false,
     "start_time": "2024-03-24T10:02:15.306311",
     "status": "completed"
    },
    "tags": []
   },
   "outputs": [],
   "source": [
    "device = torch.device(\n",
    "    'cuda' if torch.cuda.is_available() else\n",
    "    'mps' if torch.backends.mps.is_available() else\n",
    "    'cpu'\n",
    ")\n",
    "\n",
    "print(f'Using device: {device}')"
   ]
  },
  {
   "cell_type": "code",
   "execution_count": null,
   "id": "1a1ffc7f970c226a",
   "metadata": {
    "collapsed": false,
    "execution": {
     "iopub.execute_input": "2024-03-24T10:02:15.386791Z",
     "iopub.status.busy": "2024-03-24T10:02:15.386530Z",
     "iopub.status.idle": "2024-03-24T10:02:17.958022Z",
     "shell.execute_reply": "2024-03-24T10:02:17.957117Z"
    },
    "papermill": {
     "duration": 2.577098,
     "end_time": "2024-03-24T10:02:17.960036",
     "exception": false,
     "start_time": "2024-03-24T10:02:15.382938",
     "status": "completed"
    },
    "tags": []
   },
   "outputs": [],
   "source": [
    "%%capture\n",
    "\n",
    "# data loaders\n",
    "train_data = datasets.MNIST(\n",
    "    root='data', download=True, train=True, transform=transforms.ToTensor())\n",
    "test_data = datasets.MNIST(\n",
    "    root='data', download=True, train=False, transform=transforms.ToTensor())\n",
    "\n",
    "if not no_pca:\n",
    "    # apply PCA to the dataset (as done in the paper)\n",
    "    X_train = train_data.data.reshape(len(train_data), -1)\n",
    "    X_test = test_data.data.reshape(len(test_data), -1)\n",
    "\n",
    "    A = torch.cat([X_train, X_test]).float()\n",
    "    pca_dim = 60\n",
    "    _, _, V = torch.pca_lowrank(A, q=pca_dim)\n",
    "\n",
    "    res = torch.matmul(A, V)\n",
    "\n",
    "    X_train_pca_tensor = res[:60000]\n",
    "    X_test_pca_tensor = res[60000:]\n",
    "    y_train = train_data.targets\n",
    "    y_test = test_data.targets\n",
    "\n",
    "    # create torch datasets\n",
    "    train_data = TensorDataset(X_train_pca_tensor, y_train)\n",
    "    test_data = TensorDataset(X_test_pca_tensor, y_test)\n",
    "\n",
    "# training settings\n",
    "lot_size = lot_size if q is None else int(q * len(train_data))  # (L)\n",
    "\n",
    "train_loader = torch.utils.data.DataLoader(\n",
    "    train_data, batch_size=lot_size, shuffle=True)\n",
    "\n",
    "test_loader = torch.utils.data.DataLoader(\n",
    "    test_data, batch_size=lot_size, shuffle=False)"
   ]
  },
  {
   "cell_type": "code",
   "execution_count": null,
   "id": "96b260a32b2062a2",
   "metadata": {
    "collapsed": false,
    "execution": {
     "iopub.execute_input": "2024-03-24T10:02:17.966857Z",
     "iopub.status.busy": "2024-03-24T10:02:17.966576Z",
     "iopub.status.idle": "2024-03-24T10:02:18.248996Z",
     "shell.execute_reply": "2024-03-24T10:02:18.248089Z"
    },
    "papermill": {
     "duration": 0.288097,
     "end_time": "2024-03-24T10:02:18.250997",
     "exception": false,
     "start_time": "2024-03-24T10:02:17.962900",
     "status": "completed"
    },
    "tags": []
   },
   "outputs": [],
   "source": [
    "# model = ConvNet().to(device)\n",
    "accountant = accountants.ModifiedMomentsAccountant(noise_scale, q=lot_size / len(train_data))\n",
    "\n",
    "# loss function\n",
    "criterion = nn.CrossEntropyLoss()"
   ]
  },
  {
   "cell_type": "code",
   "execution_count": null,
   "id": "9bf0bf27e64cbc0f",
   "metadata": {
    "collapsed": false,
    "execution": {
     "iopub.execute_input": "2024-03-24T10:02:18.257725Z",
     "iopub.status.busy": "2024-03-24T10:02:18.257453Z",
     "iopub.status.idle": "2024-03-24T10:02:18.287464Z",
     "shell.execute_reply": "2024-03-24T10:02:18.286132Z"
    },
    "papermill": {
     "duration": 0.035906,
     "end_time": "2024-03-24T10:02:18.289741",
     "exception": false,
     "start_time": "2024-03-24T10:02:18.253835",
     "status": "completed"
    },
    "tags": []
   },
   "outputs": [],
   "source": [
    "from collections import defaultdict\n",
    "\n",
    "all_logger = defaultdict(dict)"
   ]
  },
  {
   "cell_type": "code",
   "outputs": [],
   "source": [
    "# differentially private optimizer\n",
    "model = LinearNet(in_features=784 if no_pca else pca_dim, hidden=hidden_size).to(device)\n",
    "optimizer = optim.PIAdam(model.named_parameters(), lot_size, lr=1e-4, noise_scale=noise_scale,\n",
    "                         max_grad_norm=max_grad_norm)\n",
    "\n",
    "all_logger['PIAdam'] = {'loss': [], 'total_loss': [], 'accuracy': [], 'total_accuracy': [], 'total_val_accuracy': [], 'epsilon': []}\n",
    "\n",
    "train_dp_model(model, criterion, optimizer, num_epochs, train_loader, test_loader, device=device,\n",
    "               logger=all_logger['PIAdam'], accountant=deepcopy(accountant))"
   ],
   "metadata": {
    "collapsed": false
   },
   "id": "4e555d0878015ee0",
   "execution_count": 0
  },
  {
   "cell_type": "code",
   "outputs": [],
   "source": [
    "logger = all_logger['PIAdam']\n",
    "\n",
    "fig, ax = plt.subplots(1, 2, figsize=(15, 6), sharey=True)\n",
    "\n",
    "ax[0].plot(logger['accuracy'])\n",
    "ax[0].set_title('accuracy')\n",
    "\n",
    "ax[1].plot(logger['total_accuracy'], label='train')\n",
    "ax[1].set_title('per epoch accuracy')\n",
    "ax[1].plot(logger['total_val_accuracy'], label='val')\n",
    "ax[1].legend()\n",
    "plt.show()"
   ],
   "metadata": {
    "collapsed": false
   },
   "id": "c729f5222e903e39",
   "execution_count": 0
  },
  {
   "cell_type": "code",
   "execution_count": null,
   "id": "50d1ef5a232777b",
   "metadata": {
    "collapsed": false,
    "execution": {
     "iopub.execute_input": "2024-03-24T10:02:58.815755Z",
     "iopub.status.busy": "2024-03-24T10:02:58.815468Z",
     "iopub.status.idle": "2024-03-24T10:03:10.636656Z",
     "shell.execute_reply": "2024-03-24T10:03:10.635655Z"
    },
    "papermill": {
     "duration": 11.841966,
     "end_time": "2024-03-24T10:03:10.638531",
     "exception": false,
     "start_time": "2024-03-24T10:02:58.796565",
     "status": "completed"
    },
    "tags": []
   },
   "outputs": [],
   "source": [
    "# differentially private optimizer\n",
    "model = LinearNet(in_features=784 if no_pca else pca_dim, hidden=hidden_size).to(device)\n",
    "optimizer = optim.DPSGD(model.named_parameters(), lot_size, lr=0.005, noise_scale=noise_scale,\n",
    "                         max_grad_norm=max_grad_norm)\n",
    "\n",
    "all_logger[optimizer.__class__.__name__] = {'loss': [], 'total_loss': [], 'accuracy': [], 'total_accuracy': [], 'total_val_accuracy': [], 'epsilon': []}\n",
    "\n",
    "train_dp_model(model, criterion, optimizer, num_epochs, train_loader, test_loader, device=device,\n",
    "               logger=all_logger[optimizer.__class__.__name__], accountant=deepcopy(accountant))"
   ]
  },
  {
   "cell_type": "code",
   "execution_count": null,
   "id": "d7590d0b03421d4f",
   "metadata": {
    "collapsed": false,
    "execution": {
     "iopub.execute_input": "2024-03-24T10:03:10.683669Z",
     "iopub.status.busy": "2024-03-24T10:03:10.683287Z",
     "iopub.status.idle": "2024-03-24T10:03:11.366137Z",
     "shell.execute_reply": "2024-03-24T10:03:11.365309Z"
    },
    "papermill": {
     "duration": 0.714868,
     "end_time": "2024-03-24T10:03:11.372183",
     "exception": false,
     "start_time": "2024-03-24T10:03:10.657315",
     "status": "completed"
    },
    "tags": []
   },
   "outputs": [],
   "source": [
    "logger = all_logger[optimizer.__class__.__name__]\n",
    "\n",
    "fig, ax = plt.subplots(1, 2, figsize=(15, 6), sharey=True)\n",
    "\n",
    "ax[0].plot(logger['accuracy'])\n",
    "ax[0].set_title('accuracy')\n",
    "\n",
    "ax[1].plot(logger['total_accuracy'], label='train')\n",
    "ax[1].set_title('per epoch accuracy')\n",
    "ax[1].plot(logger['total_val_accuracy'], label='val')\n",
    "ax[1].legend()\n",
    "plt.show()"
   ]
  },
  {
   "cell_type": "code",
   "execution_count": null,
   "id": "bcc3c7e5568361a1",
   "metadata": {
    "collapsed": false,
    "execution": {
     "iopub.execute_input": "2024-03-24T10:03:11.421796Z",
     "iopub.status.busy": "2024-03-24T10:03:11.421476Z",
     "iopub.status.idle": "2024-03-24T10:03:11.880670Z",
     "shell.execute_reply": "2024-03-24T10:03:11.879676Z"
    },
    "papermill": {
     "duration": 0.487144,
     "end_time": "2024-03-24T10:03:11.883435",
     "exception": false,
     "start_time": "2024-03-24T10:03:11.396291",
     "status": "completed"
    },
    "tags": []
   },
   "outputs": [],
   "source": [
    "fig, ax = plt.subplots(1, 1, figsize=(10, 7))\n",
    "for i, (name, logger) in enumerate(all_logger.items()):\n",
    "    ax.plot(logger['total_val_accuracy'], label=name)\n",
    "    \n",
    "plt.legend()\n",
    "plt.xlabel('Epoch')\n",
    "plt.ylabel('Testing accuracy')\n",
    "# plt.yticks([0.6, 0.7, 0.8, 0.9, 1.0])\n",
    "plt.ylim(0.1, 1)\n",
    "plt.grid(True)"
   ]
  },
  {
   "cell_type": "code",
   "execution_count": null,
   "id": "92afa8008aacd650",
   "metadata": {
    "collapsed": false,
    "execution": {
     "iopub.execute_input": "2024-03-24T10:03:11.963721Z",
     "iopub.status.busy": "2024-03-24T10:03:11.963318Z",
     "iopub.status.idle": "2024-03-24T10:03:12.639736Z",
     "shell.execute_reply": "2024-03-24T10:03:12.638965Z"
    },
    "papermill": {
     "duration": 0.719,
     "end_time": "2024-03-24T10:03:12.642094",
     "exception": false,
     "start_time": "2024-03-24T10:03:11.923094",
     "status": "completed"
    },
    "tags": []
   },
   "outputs": [],
   "source": [
    "fig, ax = plt.subplots(1, 1, figsize=(10, 7))\n",
    "for i, (name, logger) in enumerate(all_logger.items()):\n",
    "    ax.plot(logger['epsilon'], logger['total_val_accuracy'], label=name)\n",
    "    \n",
    "plt.legend()\n",
    "plt.xlabel('Epsilon')\n",
    "plt.ylabel('Testing accuracy')\n",
    "# plt.yticks([0.6, 0.7, 0.8, 0.9, 1.0])\n",
    "plt.ylim(0.1, 1)\n",
    "plt.grid(True)"
   ]
  }
 ],
 "metadata": {
  "kernelspec": {
   "display_name": "Python 3",
   "language": "python",
   "name": "python3"
  },
  "language_info": {
   "codemirror_mode": {
    "name": "ipython",
    "version": 3
   },
   "file_extension": ".py",
   "mimetype": "text/x-python",
   "name": "python",
   "nbconvert_exporter": "python",
   "pygments_lexer": "ipython3",
   "version": "3.10.12"
  },
  "papermill": {
   "default_parameters": {},
   "duration": 69.306305,
   "end_time": "2024-03-24T10:03:15.114647",
   "environment_variables": {},
   "exception": null,
   "input_path": "notebooks/test_mnist.ipynb",
   "output_path": "notebooks/test_mnist.ipynb",
   "parameters": {
    "num_epochs": 100
   },
   "start_time": "2024-03-24T10:02:05.808342",
   "version": "2.5.0"
  }
 },
 "nbformat": 4,
 "nbformat_minor": 5
}
