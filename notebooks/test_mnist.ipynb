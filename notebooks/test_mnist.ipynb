{
 "cells": [
  {
   "cell_type": "code",
   "execution_count": null,
   "metadata": {},
   "outputs": [],
   "source": [
    "from main import *"
   ]
  },
  {
   "cell_type": "code",
   "execution_count": null,
   "metadata": {},
   "outputs": [],
   "source": [
    "# Parameters\n",
    "\n",
    "num_epochs = 100\n",
    "noise_scale = 4\n",
    "\n",
    "max_grad_norm = 4\n",
    "lot_size = 600\n",
    "hidden_size = 1000\n",
    "q = None"
   ]
  },
  {
   "cell_type": "code",
   "execution_count": null,
   "metadata": {},
   "outputs": [],
   "source": [
    "device = torch.device(\n",
    "    'cuda' if torch.cuda.is_available() else\n",
    "    'mps' if torch.backends.mps.is_available() else\n",
    "    'cpu'\n",
    ")\n",
    "\n",
    "print(f'Using device: {device}')"
   ]
  },
  {
   "cell_type": "markdown",
   "metadata": {},
   "source": [
    "### Loading data"
   ]
  },
  {
   "cell_type": "code",
   "execution_count": null,
   "metadata": {},
   "outputs": [],
   "source": [
    "# data loaders\n",
    "train_data = datasets.MNIST(\n",
    "    root='data', download=True, train=True, transform=transforms.ToTensor())\n",
    "test_data = datasets.MNIST(\n",
    "    root='data', download=True, train=False, transform=transforms.ToTensor())\n",
    "\n",
    "# training settings\n",
    "lot_size = lot_size if q is None else int(q * len(train_data))  # (L)\n",
    "\n",
    "train_loader = torch.utils.data.DataLoader(\n",
    "    train_data, batch_size=lot_size, shuffle=True)\n",
    "\n",
    "test_loader = torch.utils.data.DataLoader(\n",
    "    test_data, batch_size=lot_size, shuffle=False)"
   ]
  },
  {
   "cell_type": "code",
   "execution_count": null,
   "metadata": {},
   "outputs": [],
   "source": [
    "accountant = accountants.MomentsAccountant(noise_scale, q=lot_size / len(train_data))\n",
    "\n",
    "# loss function\n",
    "criterion = nn.CrossEntropyLoss()"
   ]
  },
  {
   "cell_type": "markdown",
   "metadata": {},
   "source": [
    "### Training"
   ]
  },
  {
   "cell_type": "code",
   "execution_count": null,
   "metadata": {},
   "outputs": [],
   "source": [
    "model = LinearNet(in_features=784, hidden=hidden_size).to(device)\n",
    "\n",
    "# differentially private optimizer\n",
    "optimizer = optim.PIAdam(model.named_parameters(), lot_size, lr=1e-4, noise_scale=noise_scale,\n",
    "                         max_grad_norm=max_grad_norm)\n",
    "\n",
    "logger = {'loss': [], 'total_loss': [], 'accuracy': [], 'total_accuracy': [], 'total_val_accuracy': [], 'epsilon': []}\n",
    "\n",
    "train_dp_model(model, criterion, optimizer, num_epochs, train_loader, test_loader, device=device,\n",
    "               logger=logger, accountant=accountant)"
   ]
  },
  {
   "cell_type": "code",
   "execution_count": null,
   "metadata": {},
   "outputs": [],
   "source": [
    "fig, ax = plt.subplots(1, 2, figsize=(15, 6), sharey=True)\n",
    "\n",
    "ax[0].plot(logger['accuracy'])\n",
    "ax[0].set_title('accuracy')\n",
    "\n",
    "ax[1].plot(logger['total_accuracy'], label='train')\n",
    "ax[1].set_title('per epoch accuracy')\n",
    "ax[1].plot(logger['total_val_accuracy'], label='val')\n",
    "ax[1].legend()\n",
    "plt.show()"
   ]
  }
 ],
 "metadata": {
  "kernelspec": {
   "display_name": "py311",
   "language": "python",
   "name": "python3"
  },
  "language_info": {
   "name": "python",
   "version": "3.11.7"
  }
 },
 "nbformat": 4,
 "nbformat_minor": 2
}
